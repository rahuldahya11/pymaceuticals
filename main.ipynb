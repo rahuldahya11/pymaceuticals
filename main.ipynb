{
 "cells": [
  {
   "cell_type": "markdown",
   "metadata": {},
   "source": [
    "## Observations and Insights"
   ]
  },
  {
   "cell_type": "markdown",
   "metadata": {},
   "source": []
  },
  {
   "cell_type": "markdown",
   "metadata": {},
   "source": [
    "## Dependencies and starter code"
   ]
  },
  {
   "cell_type": "code",
   "execution_count": 2,
   "metadata": {},
   "outputs": [],
   "source": [
    "# Dependencies and Setup\n",
    "import matplotlib.pyplot as plt\n",
    "import pandas as pd\n",
    "import scipy.stats as st\n",
    "\n",
    "# Study data files\n",
    "mouse_metadata = \"data/Mouse_metadata.csv\"\n",
    "study_results = \"data/Study_results.csv\"\n",
    "\n",
    "# Read the mouse data and the study results\n",
    "mouse_metadata = pd.read_csv(mouse_metadata)\n",
    "study_results = pd.read_csv(study_results)\n",
    "\n",
    "# Combine the data into a single dataset\n",
    "combined_data = pd.merge(mouse_metadata, study_results, on = \"Mouse ID\")\n",
    "\n",
    "#(delete \"#\" below to display data frame)\n",
    "#combined_data"
   ]
  },
  {
   "cell_type": "markdown",
   "metadata": {},
   "source": [
    "## Summary statistics"
   ]
  },
  {
   "cell_type": "code",
   "execution_count": 3,
   "metadata": {},
   "outputs": [
    {
     "data": {
      "text/html": [
       "<div>\n",
       "<style scoped>\n",
       "    .dataframe tbody tr th:only-of-type {\n",
       "        vertical-align: middle;\n",
       "    }\n",
       "\n",
       "    .dataframe tbody tr th {\n",
       "        vertical-align: top;\n",
       "    }\n",
       "\n",
       "    .dataframe thead th {\n",
       "        text-align: right;\n",
       "    }\n",
       "</style>\n",
       "<table border=\"1\" class=\"dataframe\">\n",
       "  <thead>\n",
       "    <tr style=\"text-align: right;\">\n",
       "      <th>Drug Regimen</th>\n",
       "      <th>Capomulin</th>\n",
       "      <th>Ceftamin</th>\n",
       "      <th>Infubinol</th>\n",
       "      <th>Ketapril</th>\n",
       "      <th>Naftisol</th>\n",
       "      <th>Placebo</th>\n",
       "      <th>Propriva</th>\n",
       "      <th>Ramicane</th>\n",
       "      <th>Stelasyn</th>\n",
       "      <th>Zoniferol</th>\n",
       "    </tr>\n",
       "  </thead>\n",
       "  <tbody>\n",
       "    <tr>\n",
       "      <th>count</th>\n",
       "      <td>230.000000</td>\n",
       "      <td>178.000000</td>\n",
       "      <td>178.000000</td>\n",
       "      <td>188.000000</td>\n",
       "      <td>186.000000</td>\n",
       "      <td>181.000000</td>\n",
       "      <td>161.000000</td>\n",
       "      <td>228.000000</td>\n",
       "      <td>181.000000</td>\n",
       "      <td>182.000000</td>\n",
       "    </tr>\n",
       "    <tr>\n",
       "      <th>mean</th>\n",
       "      <td>40.675741</td>\n",
       "      <td>52.591172</td>\n",
       "      <td>52.884795</td>\n",
       "      <td>55.235638</td>\n",
       "      <td>54.331565</td>\n",
       "      <td>54.033581</td>\n",
       "      <td>52.322552</td>\n",
       "      <td>40.216745</td>\n",
       "      <td>54.233149</td>\n",
       "      <td>53.236507</td>\n",
       "    </tr>\n",
       "    <tr>\n",
       "      <th>std</th>\n",
       "      <td>4.994774</td>\n",
       "      <td>6.268188</td>\n",
       "      <td>6.567243</td>\n",
       "      <td>8.279709</td>\n",
       "      <td>8.134708</td>\n",
       "      <td>7.821003</td>\n",
       "      <td>6.507770</td>\n",
       "      <td>4.846308</td>\n",
       "      <td>7.710419</td>\n",
       "      <td>6.966589</td>\n",
       "    </tr>\n",
       "    <tr>\n",
       "      <th>min</th>\n",
       "      <td>23.343598</td>\n",
       "      <td>45.000000</td>\n",
       "      <td>36.321346</td>\n",
       "      <td>45.000000</td>\n",
       "      <td>45.000000</td>\n",
       "      <td>45.000000</td>\n",
       "      <td>45.000000</td>\n",
       "      <td>22.050126</td>\n",
       "      <td>45.000000</td>\n",
       "      <td>45.000000</td>\n",
       "    </tr>\n",
       "    <tr>\n",
       "      <th>25%</th>\n",
       "      <td>37.685933</td>\n",
       "      <td>47.208427</td>\n",
       "      <td>47.312353</td>\n",
       "      <td>48.232987</td>\n",
       "      <td>47.285874</td>\n",
       "      <td>47.459053</td>\n",
       "      <td>47.081086</td>\n",
       "      <td>36.674635</td>\n",
       "      <td>48.047139</td>\n",
       "      <td>47.337876</td>\n",
       "    </tr>\n",
       "    <tr>\n",
       "      <th>50%</th>\n",
       "      <td>41.557809</td>\n",
       "      <td>51.776157</td>\n",
       "      <td>51.820584</td>\n",
       "      <td>53.698743</td>\n",
       "      <td>52.509285</td>\n",
       "      <td>52.288934</td>\n",
       "      <td>50.854632</td>\n",
       "      <td>40.673236</td>\n",
       "      <td>52.431737</td>\n",
       "      <td>51.818479</td>\n",
       "    </tr>\n",
       "    <tr>\n",
       "      <th>75%</th>\n",
       "      <td>45.000000</td>\n",
       "      <td>56.801438</td>\n",
       "      <td>57.314444</td>\n",
       "      <td>60.870951</td>\n",
       "      <td>59.963034</td>\n",
       "      <td>59.916934</td>\n",
       "      <td>56.184664</td>\n",
       "      <td>45.000000</td>\n",
       "      <td>58.719297</td>\n",
       "      <td>57.954259</td>\n",
       "    </tr>\n",
       "    <tr>\n",
       "      <th>max</th>\n",
       "      <td>48.158209</td>\n",
       "      <td>68.923185</td>\n",
       "      <td>72.226731</td>\n",
       "      <td>78.567014</td>\n",
       "      <td>76.668817</td>\n",
       "      <td>73.212939</td>\n",
       "      <td>72.455421</td>\n",
       "      <td>47.622816</td>\n",
       "      <td>75.123690</td>\n",
       "      <td>73.324432</td>\n",
       "    </tr>\n",
       "    <tr>\n",
       "      <th>Variance</th>\n",
       "      <td>24.947764</td>\n",
       "      <td>39.290177</td>\n",
       "      <td>43.128684</td>\n",
       "      <td>68.553577</td>\n",
       "      <td>66.173479</td>\n",
       "      <td>61.168083</td>\n",
       "      <td>42.351070</td>\n",
       "      <td>23.486704</td>\n",
       "      <td>59.450562</td>\n",
       "      <td>48.533355</td>\n",
       "    </tr>\n",
       "    <tr>\n",
       "      <th>SEM</th>\n",
       "      <td>0.329346</td>\n",
       "      <td>0.469821</td>\n",
       "      <td>0.492236</td>\n",
       "      <td>0.603860</td>\n",
       "      <td>0.596466</td>\n",
       "      <td>0.581331</td>\n",
       "      <td>0.512884</td>\n",
       "      <td>0.320955</td>\n",
       "      <td>0.573111</td>\n",
       "      <td>0.516398</td>\n",
       "    </tr>\n",
       "  </tbody>\n",
       "</table>\n",
       "</div>"
      ],
      "text/plain": [
       "Drug Regimen   Capomulin    Ceftamin   Infubinol    Ketapril    Naftisol  \\\n",
       "count         230.000000  178.000000  178.000000  188.000000  186.000000   \n",
       "mean           40.675741   52.591172   52.884795   55.235638   54.331565   \n",
       "std             4.994774    6.268188    6.567243    8.279709    8.134708   \n",
       "min            23.343598   45.000000   36.321346   45.000000   45.000000   \n",
       "25%            37.685933   47.208427   47.312353   48.232987   47.285874   \n",
       "50%            41.557809   51.776157   51.820584   53.698743   52.509285   \n",
       "75%            45.000000   56.801438   57.314444   60.870951   59.963034   \n",
       "max            48.158209   68.923185   72.226731   78.567014   76.668817   \n",
       "Variance       24.947764   39.290177   43.128684   68.553577   66.173479   \n",
       "SEM             0.329346    0.469821    0.492236    0.603860    0.596466   \n",
       "\n",
       "Drug Regimen     Placebo    Propriva    Ramicane    Stelasyn   Zoniferol  \n",
       "count         181.000000  161.000000  228.000000  181.000000  182.000000  \n",
       "mean           54.033581   52.322552   40.216745   54.233149   53.236507  \n",
       "std             7.821003    6.507770    4.846308    7.710419    6.966589  \n",
       "min            45.000000   45.000000   22.050126   45.000000   45.000000  \n",
       "25%            47.459053   47.081086   36.674635   48.047139   47.337876  \n",
       "50%            52.288934   50.854632   40.673236   52.431737   51.818479  \n",
       "75%            59.916934   56.184664   45.000000   58.719297   57.954259  \n",
       "max            73.212939   72.455421   47.622816   75.123690   73.324432  \n",
       "Variance       61.168083   42.351070   23.486704   59.450562   48.533355  \n",
       "SEM             0.581331    0.512884    0.320955    0.573111    0.516398  "
      ]
     },
     "execution_count": 3,
     "metadata": {},
     "output_type": "execute_result"
    }
   ],
   "source": [
    "#Generate a summary statistics table of mean, median, variance, standard deviation, and SEM of the tumor volume for each regimen\n",
    "\n",
    "drug_data = combined_data[[\"Drug Regimen\", \"Tumor Volume (mm3)\"]]\n",
    "drug_data_df = drug_data.pivot(columns = \"Drug Regimen\", values = \"Tumor Volume (mm3)\")\n",
    "drug_data_stat = drug_data_df.describe()\n",
    "\n",
    "variance = drug_data_df.var(axis = 0, skipna = True)\n",
    "variance_df = pd.DataFrame(variance)\n",
    "variance_df = variance_df.rename(columns = {0:\"Variance\"})\n",
    "variance_df = variance_df.transpose()\n",
    "\n",
    "SEM = drug_data_df.sem(axis = 0, skipna = True, numeric_only = float)\n",
    "SEM_df = pd.DataFrame(SEM)\n",
    "SEM_df = SEM_df.rename(columns = {0:\"SEM\"})\n",
    "SEM_df = SEM_df.transpose()\n",
    "\n",
    "Tumor_Summary_Data = pd.concat([drug_data_stat, variance_df, SEM_df])\n",
    "Tumor_Summary_Data"
   ]
  },
  {
   "cell_type": "code",
   "execution_count": 4,
   "metadata": {},
   "outputs": [
    {
     "data": {
      "image/png": "[encoded data removed]",
      "text/plain": [
       "<Figure size 432x288 with 1 Axes>"
      ]
     },
     "metadata": {
      "needs_background": "light"
     },
     "output_type": "display_data"
    }
   ],
   "source": [
    "# Generate a bar plot showing number of data points for each treatment regimen using pandas\n",
    "bar_plot1 = Tumor_Summary_Data.iloc[0].plot(kind = \"bar\")\n",
    "plt.ylabel(\"Amount tested\")\n",
    "plt.title(\"Number of Data Points for Each Treatment Regimen\")\n",
    "plt.show()"
   ]
  },
  {
   "cell_type": "code",
   "execution_count": 5,
   "metadata": {},
   "outputs": [
    {
     "data": {
      "image/png": "[encoded data removed]",
      "text/plain": [
       "<Figure size 432x288 with 1 Axes>"
      ]
     },
     "metadata": {
      "needs_background": "light"
     },
     "output_type": "display_data"
    }
   ],
   "source": [
    "# Generate a bar plot showing number of data points for each treatment regimen using pyplot\n",
    "drugs = combined_data[\"Drug Regimen\"].unique()\n",
    "plt.bar(drugs, Tumor_Summary_Data.iloc[0] )\n",
    "plt.title(\"Number of Data Points for Each Treatment Regimen\")\n",
    "plt.xlabel(\"Drug Regimen\")\n",
    "plt.ylabel(\"Amount tested\")\n",
    "plt.xticks(rotation = 90)\n",
    "plt.show()"
   ]
  },
  {
   "cell_type": "markdown",
   "metadata": {},
   "source": [
    "## Pie plots"
   ]
  },
  {
   "cell_type": "code",
   "execution_count": 24,
   "metadata": {
    "scrolled": true
   },
   "outputs": [
    {
     "data": {
      "image/png": "[encoded data removed]",
      "text/plain": [
       "<Figure size 432x288 with 1 Axes>"
      ]
     },
     "metadata": {},
     "output_type": "display_data"
    }
   ],
   "source": [
    "# Generate a pie plot showing the distribution of female versus male mice using pandas\n",
    "gender_count = mouse_metadata[\"Sex\"].value_counts()\n",
    "bar_plot1 = gender_count.plot(kind = \"pie\", startangle = 90, autopct = \"%1.1f%%\", shadow = True)\n",
    "plt.title(\"Gender Distribution\")\n",
    "plt.show()"
   ]
  },
  {
   "cell_type": "code",
   "execution_count": 28,
   "metadata": {
    "scrolled": true
   },
   "outputs": [
    {
     "data": {
      "image/png": "[encoded data removed]",
      "text/plain": [
       "<Figure size 432x288 with 1 Axes>"
      ]
     },
     "metadata": {},
     "output_type": "display_data"
    }
   ],
   "source": [
    "# Generate a pie plot showing the distribution of female versus male mice using pyplot\n",
    "plt.pie(gender_count, startangle = 90, autopct = \"%1.1f%%\", shadow = True, labels = [\"Male\", \"Female\"])\n",
    "plt.title(\"Gender Distribution\")\n",
    "\n",
    "plt.show()"
   ]
  },
  {
   "cell_type": "markdown",
   "metadata": {},
   "source": [
    "## Quartiles, outliers and boxplots"
   ]
  },
  {
   "cell_type": "code",
   "execution_count": 33,
   "metadata": {},
   "outputs": [],
   "source": [
    "# Calculate the final tumor volume of each mouse across four of the most promising treatment regimens. Calculate the IQR and quantitatively determine if there are any potential outliers.\n"
   ]
  },
  {
   "cell_type": "code",
   "execution_count": 34,
   "metadata": {},
   "outputs": [],
   "source": [
    "# Generate a box plot of the final tumor volume of each mouse across four regimens of interest"
   ]
  },
  {
   "cell_type": "markdown",
   "metadata": {},
   "source": [
    "## Line and scatter plots"
   ]
  },
  {
   "cell_type": "code",
   "execution_count": 35,
   "metadata": {},
   "outputs": [],
   "source": [
    "# Generate a line plot of time point versus tumor volume for a mouse treated with Capomulin"
   ]
  },
  {
   "cell_type": "code",
   "execution_count": 51,
   "metadata": {},
   "outputs": [],
   "source": [
    "# Generate a scatter plot of mouse weight versus average tumor volume for the Capomulin regimen"
   ]
  },
  {
   "cell_type": "code",
   "execution_count": 37,
   "metadata": {},
   "outputs": [],
   "source": [
    "# Calculate the correlation coefficient and linear regression model for mouse weight and average tumor volume for the Capomulin regimen"
   ]
  },
  {
   "cell_type": "code",
   "execution_count": null,
   "metadata": {},
   "outputs": [],
   "source": []
  },
  {
   "cell_type": "code",
   "execution_count": null,
   "metadata": {},
   "outputs": [],
   "source": []
  }
 ],
 "metadata": {
  "anaconda-cloud": {},
  "kernelspec": {
   "display_name": "Python 3",
   "language": "python",
   "name": "python3"
  },
  "language_info": {
   "codemirror_mode": {
    "name": "ipython",
    "version": 3
   },
   "file_extension": ".py",
   "mimetype": "text/x-python",
   "name": "python",
   "nbconvert_exporter": "python",
   "pygments_lexer": "ipython3",
   "version": "3.7.1"
  }
 },
 "nbformat": 4,
 "nbformat_minor": 2
}
